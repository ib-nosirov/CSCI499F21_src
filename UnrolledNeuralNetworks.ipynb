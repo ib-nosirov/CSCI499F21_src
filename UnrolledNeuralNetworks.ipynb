{
  "nbformat": 4,
  "nbformat_minor": 0,
  "metadata": {
    "colab": {
      "name": "UnrolledNeuralNetworks.ipynb",
      "provenance": [],
      "authorship_tag": "ABX9TyMxRIt/kxs4N1ZBU5bErwAG",
      "include_colab_link": true
    },
    "kernelspec": {
      "name": "python3",
      "display_name": "Python 3"
    },
    "language_info": {
      "name": "python"
    }
  },
  "cells": [
    {
      "cell_type": "markdown",
      "metadata": {
        "id": "view-in-github",
        "colab_type": "text"
      },
      "source": [
        "<a href=\"https://colab.research.google.com/github/ib-nosirov/CSCI499F21_src/blob/main/UnrolledNeuralNetworks.ipynb\" target=\"_parent\"><img src=\"https://colab.research.google.com/assets/colab-badge.svg\" alt=\"Open In Colab\"/></a>"
      ]
    },
    {
      "cell_type": "code",
      "metadata": {
        "id": "uh4n8vIXBdfL"
      },
      "source": [
        "import scipy.io\n",
        "import numpy as np\n",
        "from matplotlib import pyplot as plt\n",
        "import math\n",
        "import torch\n",
        "import torch.nn as nn\n",
        "from torch.utils.data import Dataset, TensorDataset, DataLoader\n",
        "import torch.optim as optim"
      ],
      "execution_count": 106,
      "outputs": []
    },
    {
      "cell_type": "code",
      "metadata": {
        "colab": {
          "base_uri": "https://localhost:8080/",
          "height": 433
        },
        "id": "A7PtKeK_Bwto",
        "outputId": "6da4c471-3c21-4d9f-d55a-028204d77c22"
      },
      "source": [
        "og_img = scipy.io.loadmat('data/test.m')['im']\n",
        "plt.figure()\n",
        "plt.imshow(og_img, interpolation='nearest', cmap='gray')"
      ],
      "execution_count": 107,
      "outputs": [
        {
          "output_type": "error",
          "ename": "FileNotFoundError",
          "evalue": "ignored",
          "traceback": [
            "\u001b[0;31m---------------------------------------------------------------------------\u001b[0m",
            "\u001b[0;31mFileNotFoundError\u001b[0m                         Traceback (most recent call last)",
            "\u001b[0;32m/usr/local/lib/python3.7/dist-packages/scipy/io/matlab/mio.py\u001b[0m in \u001b[0;36m_open_file\u001b[0;34m(file_like, appendmat, mode)\u001b[0m\n\u001b[1;32m     38\u001b[0m     \u001b[0;32mtry\u001b[0m\u001b[0;34m:\u001b[0m\u001b[0;34m\u001b[0m\u001b[0;34m\u001b[0m\u001b[0m\n\u001b[0;32m---> 39\u001b[0;31m         \u001b[0;32mreturn\u001b[0m \u001b[0mopen\u001b[0m\u001b[0;34m(\u001b[0m\u001b[0mfile_like\u001b[0m\u001b[0;34m,\u001b[0m \u001b[0mmode\u001b[0m\u001b[0;34m)\u001b[0m\u001b[0;34m,\u001b[0m \u001b[0;32mTrue\u001b[0m\u001b[0;34m\u001b[0m\u001b[0;34m\u001b[0m\u001b[0m\n\u001b[0m\u001b[1;32m     40\u001b[0m     \u001b[0;32mexcept\u001b[0m \u001b[0mIOError\u001b[0m\u001b[0;34m:\u001b[0m\u001b[0;34m\u001b[0m\u001b[0;34m\u001b[0m\u001b[0m\n",
            "\u001b[0;31mFileNotFoundError\u001b[0m: [Errno 2] No such file or directory: 'data/test.m'",
            "\nDuring handling of the above exception, another exception occurred:\n",
            "\u001b[0;31mFileNotFoundError\u001b[0m                         Traceback (most recent call last)",
            "\u001b[0;32m<ipython-input-107-18ca3414c20e>\u001b[0m in \u001b[0;36m<module>\u001b[0;34m()\u001b[0m\n\u001b[0;32m----> 1\u001b[0;31m \u001b[0mog_img\u001b[0m \u001b[0;34m=\u001b[0m \u001b[0mscipy\u001b[0m\u001b[0;34m.\u001b[0m\u001b[0mio\u001b[0m\u001b[0;34m.\u001b[0m\u001b[0mloadmat\u001b[0m\u001b[0;34m(\u001b[0m\u001b[0;34m'data/test.m'\u001b[0m\u001b[0;34m)\u001b[0m\u001b[0;34m[\u001b[0m\u001b[0;34m'im'\u001b[0m\u001b[0;34m]\u001b[0m\u001b[0;34m\u001b[0m\u001b[0;34m\u001b[0m\u001b[0m\n\u001b[0m\u001b[1;32m      2\u001b[0m \u001b[0mplt\u001b[0m\u001b[0;34m.\u001b[0m\u001b[0mfigure\u001b[0m\u001b[0;34m(\u001b[0m\u001b[0;34m)\u001b[0m\u001b[0;34m\u001b[0m\u001b[0;34m\u001b[0m\u001b[0m\n\u001b[1;32m      3\u001b[0m \u001b[0mplt\u001b[0m\u001b[0;34m.\u001b[0m\u001b[0mimshow\u001b[0m\u001b[0;34m(\u001b[0m\u001b[0mog_img\u001b[0m\u001b[0;34m,\u001b[0m \u001b[0minterpolation\u001b[0m\u001b[0;34m=\u001b[0m\u001b[0;34m'nearest'\u001b[0m\u001b[0;34m,\u001b[0m \u001b[0mcmap\u001b[0m\u001b[0;34m=\u001b[0m\u001b[0;34m'gray'\u001b[0m\u001b[0;34m)\u001b[0m\u001b[0;34m\u001b[0m\u001b[0;34m\u001b[0m\u001b[0m\n",
            "\u001b[0;32m/usr/local/lib/python3.7/dist-packages/scipy/io/matlab/mio.py\u001b[0m in \u001b[0;36mloadmat\u001b[0;34m(file_name, mdict, appendmat, **kwargs)\u001b[0m\n\u001b[1;32m    214\u001b[0m     \"\"\"\n\u001b[1;32m    215\u001b[0m     \u001b[0mvariable_names\u001b[0m \u001b[0;34m=\u001b[0m \u001b[0mkwargs\u001b[0m\u001b[0;34m.\u001b[0m\u001b[0mpop\u001b[0m\u001b[0;34m(\u001b[0m\u001b[0;34m'variable_names'\u001b[0m\u001b[0;34m,\u001b[0m \u001b[0;32mNone\u001b[0m\u001b[0;34m)\u001b[0m\u001b[0;34m\u001b[0m\u001b[0;34m\u001b[0m\u001b[0m\n\u001b[0;32m--> 216\u001b[0;31m     \u001b[0;32mwith\u001b[0m \u001b[0m_open_file_context\u001b[0m\u001b[0;34m(\u001b[0m\u001b[0mfile_name\u001b[0m\u001b[0;34m,\u001b[0m \u001b[0mappendmat\u001b[0m\u001b[0;34m)\u001b[0m \u001b[0;32mas\u001b[0m \u001b[0mf\u001b[0m\u001b[0;34m:\u001b[0m\u001b[0;34m\u001b[0m\u001b[0;34m\u001b[0m\u001b[0m\n\u001b[0m\u001b[1;32m    217\u001b[0m         \u001b[0mMR\u001b[0m\u001b[0;34m,\u001b[0m \u001b[0m_\u001b[0m \u001b[0;34m=\u001b[0m \u001b[0mmat_reader_factory\u001b[0m\u001b[0;34m(\u001b[0m\u001b[0mf\u001b[0m\u001b[0;34m,\u001b[0m \u001b[0;34m**\u001b[0m\u001b[0mkwargs\u001b[0m\u001b[0;34m)\u001b[0m\u001b[0;34m\u001b[0m\u001b[0;34m\u001b[0m\u001b[0m\n\u001b[1;32m    218\u001b[0m         \u001b[0mmatfile_dict\u001b[0m \u001b[0;34m=\u001b[0m \u001b[0mMR\u001b[0m\u001b[0;34m.\u001b[0m\u001b[0mget_variables\u001b[0m\u001b[0;34m(\u001b[0m\u001b[0mvariable_names\u001b[0m\u001b[0;34m)\u001b[0m\u001b[0;34m\u001b[0m\u001b[0;34m\u001b[0m\u001b[0m\n",
            "\u001b[0;32m/usr/lib/python3.7/contextlib.py\u001b[0m in \u001b[0;36m__enter__\u001b[0;34m(self)\u001b[0m\n\u001b[1;32m    110\u001b[0m         \u001b[0;32mdel\u001b[0m \u001b[0mself\u001b[0m\u001b[0;34m.\u001b[0m\u001b[0margs\u001b[0m\u001b[0;34m,\u001b[0m \u001b[0mself\u001b[0m\u001b[0;34m.\u001b[0m\u001b[0mkwds\u001b[0m\u001b[0;34m,\u001b[0m \u001b[0mself\u001b[0m\u001b[0;34m.\u001b[0m\u001b[0mfunc\u001b[0m\u001b[0;34m\u001b[0m\u001b[0;34m\u001b[0m\u001b[0m\n\u001b[1;32m    111\u001b[0m         \u001b[0;32mtry\u001b[0m\u001b[0;34m:\u001b[0m\u001b[0;34m\u001b[0m\u001b[0;34m\u001b[0m\u001b[0m\n\u001b[0;32m--> 112\u001b[0;31m             \u001b[0;32mreturn\u001b[0m \u001b[0mnext\u001b[0m\u001b[0;34m(\u001b[0m\u001b[0mself\u001b[0m\u001b[0;34m.\u001b[0m\u001b[0mgen\u001b[0m\u001b[0;34m)\u001b[0m\u001b[0;34m\u001b[0m\u001b[0;34m\u001b[0m\u001b[0m\n\u001b[0m\u001b[1;32m    113\u001b[0m         \u001b[0;32mexcept\u001b[0m \u001b[0mStopIteration\u001b[0m\u001b[0;34m:\u001b[0m\u001b[0;34m\u001b[0m\u001b[0;34m\u001b[0m\u001b[0m\n\u001b[1;32m    114\u001b[0m             \u001b[0;32mraise\u001b[0m \u001b[0mRuntimeError\u001b[0m\u001b[0;34m(\u001b[0m\u001b[0;34m\"generator didn't yield\"\u001b[0m\u001b[0;34m)\u001b[0m \u001b[0;32mfrom\u001b[0m \u001b[0;32mNone\u001b[0m\u001b[0;34m\u001b[0m\u001b[0;34m\u001b[0m\u001b[0m\n",
            "\u001b[0;32m/usr/local/lib/python3.7/dist-packages/scipy/io/matlab/mio.py\u001b[0m in \u001b[0;36m_open_file_context\u001b[0;34m(file_like, appendmat, mode)\u001b[0m\n\u001b[1;32m     17\u001b[0m \u001b[0;34m@\u001b[0m\u001b[0mcontextmanager\u001b[0m\u001b[0;34m\u001b[0m\u001b[0;34m\u001b[0m\u001b[0m\n\u001b[1;32m     18\u001b[0m \u001b[0;32mdef\u001b[0m \u001b[0m_open_file_context\u001b[0m\u001b[0;34m(\u001b[0m\u001b[0mfile_like\u001b[0m\u001b[0;34m,\u001b[0m \u001b[0mappendmat\u001b[0m\u001b[0;34m,\u001b[0m \u001b[0mmode\u001b[0m\u001b[0;34m=\u001b[0m\u001b[0;34m'rb'\u001b[0m\u001b[0;34m)\u001b[0m\u001b[0;34m:\u001b[0m\u001b[0;34m\u001b[0m\u001b[0;34m\u001b[0m\u001b[0m\n\u001b[0;32m---> 19\u001b[0;31m     \u001b[0mf\u001b[0m\u001b[0;34m,\u001b[0m \u001b[0mopened\u001b[0m \u001b[0;34m=\u001b[0m \u001b[0m_open_file\u001b[0m\u001b[0;34m(\u001b[0m\u001b[0mfile_like\u001b[0m\u001b[0;34m,\u001b[0m \u001b[0mappendmat\u001b[0m\u001b[0;34m,\u001b[0m \u001b[0mmode\u001b[0m\u001b[0;34m)\u001b[0m\u001b[0;34m\u001b[0m\u001b[0;34m\u001b[0m\u001b[0m\n\u001b[0m\u001b[1;32m     20\u001b[0m     \u001b[0;32myield\u001b[0m \u001b[0mf\u001b[0m\u001b[0;34m\u001b[0m\u001b[0;34m\u001b[0m\u001b[0m\n\u001b[1;32m     21\u001b[0m     \u001b[0;32mif\u001b[0m \u001b[0mopened\u001b[0m\u001b[0;34m:\u001b[0m\u001b[0;34m\u001b[0m\u001b[0;34m\u001b[0m\u001b[0m\n",
            "\u001b[0;32m/usr/local/lib/python3.7/dist-packages/scipy/io/matlab/mio.py\u001b[0m in \u001b[0;36m_open_file\u001b[0;34m(file_like, appendmat, mode)\u001b[0m\n\u001b[1;32m     43\u001b[0m             \u001b[0;32mif\u001b[0m \u001b[0mappendmat\u001b[0m \u001b[0;32mand\u001b[0m \u001b[0;32mnot\u001b[0m \u001b[0mfile_like\u001b[0m\u001b[0;34m.\u001b[0m\u001b[0mendswith\u001b[0m\u001b[0;34m(\u001b[0m\u001b[0;34m'.mat'\u001b[0m\u001b[0;34m)\u001b[0m\u001b[0;34m:\u001b[0m\u001b[0;34m\u001b[0m\u001b[0;34m\u001b[0m\u001b[0m\n\u001b[1;32m     44\u001b[0m                 \u001b[0mfile_like\u001b[0m \u001b[0;34m+=\u001b[0m \u001b[0;34m'.mat'\u001b[0m\u001b[0;34m\u001b[0m\u001b[0;34m\u001b[0m\u001b[0m\n\u001b[0;32m---> 45\u001b[0;31m             \u001b[0;32mreturn\u001b[0m \u001b[0mopen\u001b[0m\u001b[0;34m(\u001b[0m\u001b[0mfile_like\u001b[0m\u001b[0;34m,\u001b[0m \u001b[0mmode\u001b[0m\u001b[0;34m)\u001b[0m\u001b[0;34m,\u001b[0m \u001b[0;32mTrue\u001b[0m\u001b[0;34m\u001b[0m\u001b[0;34m\u001b[0m\u001b[0m\n\u001b[0m\u001b[1;32m     46\u001b[0m         \u001b[0;32melse\u001b[0m\u001b[0;34m:\u001b[0m\u001b[0;34m\u001b[0m\u001b[0;34m\u001b[0m\u001b[0m\n\u001b[1;32m     47\u001b[0m             \u001b[0;32mraise\u001b[0m \u001b[0mIOError\u001b[0m\u001b[0;34m(\u001b[0m\u001b[0;34m'Reader needs file name or open file-like object'\u001b[0m\u001b[0;34m)\u001b[0m\u001b[0;34m\u001b[0m\u001b[0;34m\u001b[0m\u001b[0m\n",
            "\u001b[0;31mFileNotFoundError\u001b[0m: [Errno 2] No such file or directory: 'data/test.m.mat'"
          ]
        }
      ]
    },
    {
      "cell_type": "code",
      "metadata": {
        "id": "t5ZclzhNquLg"
      },
      "source": [
        "\n",
        "class EtaLayer(nn.Module):\n",
        "  \"\"\"Custom unrolled layer.\"\"\"\n",
        "  def __init__(self, A):\n",
        "    super().__init__()\n",
        "    self.A = A\n",
        "    self.A_T = A.transpose(1, 0)\n",
        "    self.eta = nn.Parameter(torch.randn(1))\n",
        "\n",
        "  def forward(self, x, y):\n",
        "    # y has size n_batch x n_measurements\n",
        "    x = x.permute(1,0)\n",
        "    eta = torch.clamp(self.eta, min=0, max=100)\n",
        "    Ax = self.A.matmul(x)\n",
        "    y = y.permute(1,0)\n",
        "    # size n_measurements x n_batch\n",
        "    res = Ax - y\n",
        "    x_out = x - eta * self.A_T.matmul(res)\n",
        "    return x_out.permute(1, 0)\n"
      ],
      "execution_count": 78,
      "outputs": []
    },
    {
      "cell_type": "code",
      "metadata": {
        "id": "1_jjX8Dkzo_V"
      },
      "source": [
        "class WLayer(nn.Module):\n",
        "  \"\"\"Custom unrolled layer.\"\"\"\n",
        "  def __init__(self, A):\n",
        "    super().__init__()\n",
        "    self.A = A\n",
        "    self.A_T = A.transpose(1, 0)\n",
        "    self.W = nn.Parameter(torch.rand(self.A.size(dim=1),\n",
        "                                     self.A.size(dim=1)))\n",
        "\n",
        "  def forward(self, x, y):\n",
        "    # y has size n_batch x n_measurements\n",
        "    x = x.permute(1,0)\n",
        "    W = torch.clamp(self.W, min=0, max=1)\n",
        "    Ax = self.A.matmul(x)\n",
        "    y = y.permute(1,0)\n",
        "    # size n_measurements x n_batch\n",
        "    res = Ax - y\n",
        "    x_out = x - W.matmul(self.A_T.matmul(res))\n",
        "    return x_out.permute(1, 0)"
      ],
      "execution_count": 79,
      "outputs": []
    },
    {
      "cell_type": "code",
      "metadata": {
        "id": "zXKlCvAz4brx"
      },
      "source": [
        "class ExtraNNLayer(nn.Module):\n",
        "  \"\"\"Custom unrolled layer.\"\"\"\n",
        "  def __init__(self, A):\n",
        "    super().__init__()\n",
        "    self.A = A\n",
        "    self.A_T = A.transpose(1, 0)\n",
        "    self.eta = nn.Parameter(torch.randn(1))\n",
        "    self.W = nn.Parameter(torch.rand(self.A.size(dim=1),\n",
        "                                     self.A.size(dim=1)))\n",
        "    self.b = nn.Parameter(torch.rand(self.A.size(dim=1), 1))\n",
        "\n",
        "  def forward(self, x, y):\n",
        "    x = x.permute(1,0)\n",
        "    eta = torch.clamp(self.eta, min=0, max=100)\n",
        "    Ax = self.A.matmul(x)\n",
        "    y = y.permute(1,0)\n",
        "    Wx = self.W.matmul(x)\n",
        "    b = self.b.permute(1,0)\n",
        "    sigmoid = nn.Sigmoid()\n",
        "    # size n_measurements x n_batch\n",
        "    res = Ax - y\n",
        "    perceptron = Wx + b\n",
        "    x_out = x - eta * self.A_T.matmul(res) + sigmoid(perceptron)\n",
        "    return x_out.permute(1, 0)\n"
      ],
      "execution_count": 100,
      "outputs": []
    },
    {
      "cell_type": "code",
      "metadata": {
        "id": "GP2lZaHxsWo3"
      },
      "source": [
        "#import eta_layer \n",
        "#import w_layer\n",
        "\n",
        "class ModelBase(nn.Module):\n",
        "  def __init__(self):\n",
        "    super().__init__()\n",
        "\n",
        "  def EtaLayer(self, A):\n",
        "    return EtaLayer(A)\n",
        "\n",
        "  def WLayer(self, A):\n",
        "    return WLayer(A)\n",
        "\n",
        "  def ExtraNNLayer(self, A):\n",
        "    return ExtraNNLayer(A)\n",
        "    \n",
        "  def writeTrainingSummaries(self, training_cost):\n",
        "    return\n",
        "    #writeToFile\n"
      ],
      "execution_count": 101,
      "outputs": []
    },
    {
      "cell_type": "code",
      "metadata": {
        "id": "cVZdTAmlssMe"
      },
      "source": [
        "#import model_base\n",
        "class ModelFc(ModelBase):\n",
        "  \"\"\"A fully-connected network with user-specifiable hyperparameters.\"\"\"\n",
        "\n",
        "  def __init__(self, A):\n",
        "    super().__init__()\n",
        "    #self.x_k1 = super().EtaLayer(A)\n",
        "    #self.x_k1 = super().WLayer(A)\n",
        "    self.x_k1 = super().ExtraNNLayer(A)\n",
        "\n",
        "    # Build the network layer by layer\n",
        "  def forward(self, x, y):\n",
        "    x_predict = self.x_k1(x, y)\n",
        "    for i in range(3):\n",
        "      x_predict = self.x_k1(x_predict, y) \n",
        "    return x_predict"
      ],
      "execution_count": 102,
      "outputs": []
    },
    {
      "cell_type": "code",
      "metadata": {
        "id": "bE_noYgct3IC"
      },
      "source": [
        "\"\"\"A function that trains a neural network.\"\"\"\n",
        "\n",
        "class Trainer(nn.Module):\n",
        "  \"\"\"Class for training and validating neural network.\"\"\"\n",
        "  def __init__(self, data_train, A, max_epochs, batch_size):\n",
        "    super(Trainer, self).__init__()\n",
        "    self.train_set = DataLoader(data_train, batch_size, shuffle=True)\n",
        "#    self.validate_set = DataLoader(data_validate, batch_size, shuffle=True)\n",
        "    self.A = A\n",
        "    self.max_epochs = max_epochs\n",
        "    self.batch_size = batch_size\n",
        "    self.model = None\n",
        "    self.loss = None\n",
        "    self.optim = None\n",
        "\n",
        "  def train_init(self):\n",
        "    self.model = ModelFc(self.A)\n",
        "    self.loss = torch.nn.MSELoss() \n",
        "    self.optim = torch.optim.SGD(self.model.parameters(), lr=1e-4)\n",
        "\n",
        "  def learn(self, loss_val):\n",
        "    self.optim.zero_grad()\n",
        "    loss_val.backward()\n",
        "    self.optim.step()\n",
        "\n",
        "  def createTrainCost(self):\n",
        "    running_loss = 0\n",
        "    for x, y in self.train_set:\n",
        "      x0 = torch.randn(x.shape[0], x.shape[1])\n",
        "      x_pred = self.model(x0, y)\n",
        "      loss_val = self.loss(x_pred, x)\n",
        "      running_loss += loss_val\n",
        "      self.learn(loss_val)\n",
        "    return running_loss / len(self.train_set)\n",
        "\n",
        "  def train(self):\n",
        "    self.train_init()\n",
        "    for epoch in range(self.max_epochs):\n",
        "      train_cost = self.createTrainCost()\n",
        "      #validate_cost = self.createValidateCost()\n",
        "      self.model.writeTrainingSummaries(train_cost)\n",
        "  \n",
        "      if(epoch % 10 == 0):\n",
        "        print('epoch = #', epoch, ', train_cost = ', train_cost)\n"
      ],
      "execution_count": 103,
      "outputs": []
    },
    {
      "cell_type": "code",
      "metadata": {
        "colab": {
          "base_uri": "https://localhost:8080/"
        },
        "id": "nIa2PJakuUcA",
        "outputId": "2adc1821-fb64-4ccc-ce35-44e86d3de275"
      },
      "source": [
        "#A_contents = scipy.io.loadmat('A.mat')\n",
        "#A = torch.from_numpy(A_contents['A']).float()\n",
        "A = torch.randn(10, 5)\n",
        "n_features = A.shape[0]\n",
        "n_measurements = A.shape[1]\n",
        "n_samples = 1000\n",
        "max_epochs = 100\n",
        "batch_size = 10\n",
        "\n",
        "A = torch.randn(n_measurements, n_features)\n",
        "x_train = torch.randn(n_samples, n_features)\n",
        "y_train = A.matmul(x_train.permute(1,0)).permute(1,0)\n",
        "\n",
        "data_train = TensorDataset(x_train, y_train)\n",
        "trainerClass = Trainer(data_train, A, max_epochs, batch_size)\n",
        "trainerClass.train()"
      ],
      "execution_count": 104,
      "outputs": [
        {
          "output_type": "stream",
          "name": "stdout",
          "text": [
            "epoch = # 0 , train_cost =  tensor(636871.2500, grad_fn=<DivBackward0>)\n",
            "epoch = # 10 , train_cost =  tensor(10.2614, grad_fn=<DivBackward0>)\n",
            "epoch = # 20 , train_cost =  tensor(10.4857, grad_fn=<DivBackward0>)\n",
            "epoch = # 30 , train_cost =  tensor(10.6864, grad_fn=<DivBackward0>)\n",
            "epoch = # 40 , train_cost =  tensor(10.6545, grad_fn=<DivBackward0>)\n",
            "epoch = # 50 , train_cost =  tensor(10.4294, grad_fn=<DivBackward0>)\n",
            "epoch = # 60 , train_cost =  tensor(10.2057, grad_fn=<DivBackward0>)\n",
            "epoch = # 70 , train_cost =  tensor(10.7205, grad_fn=<DivBackward0>)\n",
            "epoch = # 80 , train_cost =  tensor(10.3189, grad_fn=<DivBackward0>)\n",
            "epoch = # 90 , train_cost =  tensor(10.4517, grad_fn=<DivBackward0>)\n"
          ]
        }
      ]
    },
    {
      "cell_type": "code",
      "metadata": {
        "id": "kLqGcqWjuct9"
      },
      "source": [
        ""
      ],
      "execution_count": 104,
      "outputs": []
    }
  ]
}